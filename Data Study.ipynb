{
 "cells": [
  {
   "cell_type": "markdown",
   "id": "42709c73",
   "metadata": {},
   "source": [
    "# Import necessary libraries"
   ]
  },
  {
   "cell_type": "code",
   "execution_count": null,
   "id": "2642c6ac",
   "metadata": {},
   "outputs": [],
   "source": [
    "import pandas as pd\n",
    "import numpy as np\n",
    "import matplotlib.pyplot as plt\n",
    "import statsmodels.api as sm\n",
    "from sklearn.preprocessing import StandardScaler"
   ]
  },
  {
   "cell_type": "markdown",
   "id": "a5a2f997",
   "metadata": {},
   "source": [
    "### Data File description \n",
    "#### sex: 1 for female and 2 for male.\n",
    "###### age: of the patient.\n",
    "##### classification: covid test findings. Values 1-3 mean that the patient was diagnosed with covid in different degrees. 4 or higher means that the patient is not a carrier of covid or that the test is inconclusive.\n",
    "###### patient type: type of care the patient received in the unit. 1 for returned home and 2 for hospitalization.\n",
    "##### pneumonia: whether the patient already have air sacs inflammation or not.\n",
    "###### pregnancy: whether the patient is pregnant or not.\n",
    "##### diabetes: whether the patient has diabetes or not.\n",
    "###### copd: Indicates whether the patient has Chronic obstructive pulmonary disease or not.\n",
    "##### asthma: whether the patient has asthma or not.\n",
    "###### inmsupr: whether the patient is immunosuppressed or not.\n",
    "##### hypertension: whether the patient has hypertension or not.\n",
    "###### cardiovascular: whether the patient has heart or blood vessels related disease.\n",
    "##### renal chronic: whether the patient has chronic renal disease or not.\n",
    "###### other disease: whether the patient has other disease or not.\n",
    "##### obesity: whether the patient is obese or not.\n",
    "###### tobacco: whether the patient is a tobacco user.\n",
    "##### usmr: Indicates whether the patient treated medical units of the first, second or third level.\n",
    "###### medical unit: type of institution of the National Health System that provided the care.\n",
    "##### intubed: whether the patient was connected to the ventilator.\n",
    "###### icu: Indicates whether the patient had been admitted to an Intensive Care Unit.\n",
    "##### date died: If the patient died indicate the date of death, and 9999-99-99 otherwise."
   ]
  },
  {
   "cell_type": "markdown",
   "id": "07d0cdff",
   "metadata": {},
   "source": [
    "# Data Manipulation"
   ]
  },
  {
   "cell_type": "code",
   "execution_count": null,
   "id": "9ef474c8",
   "metadata": {},
   "outputs": [],
   "source": [
    "# loading data \n",
    "df = pd.read_csv('Covid Data.csv')\n",
    "\n",
    "# taking a peak at data\n",
    "df.head()"
   ]
  },
  {
   "cell_type": "markdown",
   "id": "58ef653a",
   "metadata": {},
   "source": [
    "We're missing an important feature in the csv file and that is we don't know the patient is dead or not; but we have the DATE_DIED so lets create a column to indicate which patient is dead and which isn't."
   ]
  },
  {
   "cell_type": "code",
   "execution_count": null,
   "id": "a2a92576",
   "metadata": {},
   "outputs": [],
   "source": [
    "# changing DATE_DIED feature as: 9999-99-9 -- not dead(1), otherwise -- dead(0)\n",
    "df_1 = df[['USMER', 'MEDICAL_UNIT', 'SEX' ,'PATIENT_TYPE', 'INTUBED', 'PNEUMONIA', 'AGE', 'PREGNANT', 'DIABETES', 'COPD', 'ASTHMA', 'INMSUPR', 'HIPERTENSION', 'OTHER_DISEASE', 'CARDIOVASCULAR', 'OBESITY', 'RENAL_CHRONIC', 'TOBACCO', 'CLASIFFICATION_FINAL', 'ICU', 'DATE_DIED']] \n",
    "df_1['RESULT'] = np.where(df['DATE_DIED'] == '9999-99-99', 0, 1)\n",
    "df_1.drop(columns=['DATE_DIED'],axis=1,inplace=True)\n",
    "\n",
    "# take a peak at the change\n",
    "df_1.head()"
   ]
  },
  {
   "cell_type": "code",
   "execution_count": null,
   "id": "eb3f478c",
   "metadata": {
    "scrolled": true
   },
   "outputs": [],
   "source": [
    "# Get a understanding of what parameters were more envolved in each group age of 5.\n",
    "\n",
    "bins = np.arange(0,130,5)\n",
    "groups = df_1.groupby(pd.cut(df_1['AGE'],bins)).mean()\n",
    "print(groups.head())\n",
    "groups['SEX'].plot.line()"
   ]
  },
  {
   "cell_type": "code",
   "execution_count": null,
   "id": "c3021968",
   "metadata": {
    "scrolled": true
   },
   "outputs": [],
   "source": [
    "# Lets try the same thing but with RESULT to see the number of deaths in each age group.\n",
    "bins = np.arange(0,130,5)\n",
    "groups = df_1.groupby(pd.cut(df_1['AGE'],bins)).mean()\n",
    "print(groups.head())\n",
    "groups['RESULT'].plot.line()"
   ]
  },
  {
   "cell_type": "markdown",
   "id": "6529ca4f",
   "metadata": {},
   "source": [
    "By getting mean amount of each parameter envolved we can get so much information. such as: \n",
    "\n",
    "- apparently in groups of 0-25 years old, males had been more infected; 25-50 females were more infected; it switchs in 50-90 back to males; and so on and so forth; the intersting point is the significant increase amount of infected males in 110-115.\n",
    "\n",
    "- between the ages 0-65 most patinets had at home treatments while 65 and older had hospital treatments; and again there's significant increase in age 110-115 that had hospital treatment."
   ]
  },
  {
   "cell_type": "markdown",
   "id": "7cd93fb0",
   "metadata": {},
   "source": [
    "We need to know which features are the important ones. Sounds like a problem multiple regression can solve by giving us the correlation between each feature and result."
   ]
  },
  {
   "cell_type": "markdown",
   "id": "0aa9ad6c",
   "metadata": {},
   "source": [
    "# Extracting important features"
   ]
  },
  {
   "cell_type": "code",
   "execution_count": null,
   "id": "1fc12d1a",
   "metadata": {},
   "outputs": [],
   "source": [
    "# With scaling each paramater, we can use multiple regression to understand what parameters had more or less effect and also the correlation.\n",
    "scale = StandardScaler()\n",
    "\n",
    "\n",
    "X = df_1[['USMER', 'MEDICAL_UNIT', 'SEX' ,'PATIENT_TYPE', 'INTUBED', 'PNEUMONIA', 'AGE', 'PREGNANT', 'DIABETES', 'COPD', 'ASTHMA', 'INMSUPR', 'HIPERTENSION', 'OTHER_DISEASE', 'CARDIOVASCULAR', 'OBESITY', 'RENAL_CHRONIC', 'TOBACCO', 'CLASIFFICATION_FINAL', 'ICU']]\n",
    "y = df_1[['RESULT']]\n",
    "X[['USMER', 'MEDICAL_UNIT', 'SEX' ,'PATIENT_TYPE', 'INTUBED', 'PNEUMONIA', 'AGE', 'PREGNANT', 'DIABETES', 'COPD', 'ASTHMA', 'INMSUPR', 'HIPERTENSION', 'OTHER_DISEASE', 'CARDIOVASCULAR', 'OBESITY', 'RENAL_CHRONIC', 'TOBACCO', 'CLASIFFICATION_FINAL', 'ICU']] = scale.fit_transform(X[['USMER', 'MEDICAL_UNIT', 'SEX' ,'PATIENT_TYPE', 'INTUBED', 'PNEUMONIA', 'AGE', 'PREGNANT', 'DIABETES', 'COPD', 'ASTHMA', 'INMSUPR', 'HIPERTENSION', 'OTHER_DISEASE', 'CARDIOVASCULAR', 'OBESITY', 'RENAL_CHRONIC', 'TOBACCO', 'CLASIFFICATION_FINAL', 'ICU']])\n",
    "# print(X)\n",
    "\n",
    "est = sm.OLS(y, X).fit()\n",
    "est.summary()"
   ]
  },
  {
   "cell_type": "markdown",
   "id": "26b96af6",
   "metadata": {},
   "source": [
    "coef amount indicates the correlation.\n",
    "\n",
    "strongest positive correlations are: ICU, AGE, PATIENT_TYPE, SEX, \n",
    "Strongest negative correlations are: INTUBED, CLASIFFICATION_FINAL, MEDICAL_UNIT\n",
    "\n",
    "let's use TOBACCO too just because it's common."
   ]
  },
  {
   "cell_type": "markdown",
   "id": "91c2c6d1",
   "metadata": {},
   "source": [
    "positive correlation is telling us that the more patients had ICU, the older they were, had hospital treatments(PATIENT_TYPE), and males have more chance of dying to this disease.\n",
    "\n",
    "negative correlation is telling us that the more patients had used ventilator machines(INTUBED), patient was diagnosed with covid in different situations(CLASIFFICATION_FINAL), and the type of institution of the National Health System that provided the care(MEDICAL_UNIT), the less chance of dying they have to this disease.\n"
   ]
  },
  {
   "cell_type": "markdown",
   "id": "a296de37",
   "metadata": {},
   "source": [
    "# Use important features"
   ]
  },
  {
   "cell_type": "code",
   "execution_count": null,
   "id": "9859da6a",
   "metadata": {},
   "outputs": [],
   "source": [
    "# create another model with only the stronge correlations\n",
    "df_2 = df_1[['ICU', 'PATIENT_TYPE', 'AGE', 'SEX', 'TOBACCO','INTUBED', 'CLASIFFICATION_FINAL', 'MEDICAL_UNIT', 'RESULT']]\n",
    "df_2.head()"
   ]
  },
  {
   "cell_type": "code",
   "execution_count": null,
   "id": "fe47e221",
   "metadata": {
    "scrolled": true
   },
   "outputs": [],
   "source": [
    "strScaler = StandardScaler()\n",
    "X1 = df_2[['ICU', 'PATIENT_TYPE', 'AGE', 'SEX', 'TOBACCO','INTUBED', 'CLASIFFICATION_FINAL', 'MEDICAL_UNIT']]\n",
    "y1 = df_2[['RESULT']]\n",
    "X1[['ICU', 'PATIENT_TYPE', 'AGE', 'SEX', 'TOBACCO','INTUBED', 'CLASIFFICATION_FINAL', 'MEDICAL_UNIT']] = strScaler.fit_transform(X1[['ICU', 'PATIENT_TYPE', 'AGE', 'SEX', 'TOBACCO','INTUBED', 'CLASIFFICATION_FINAL', 'MEDICAL_UNIT']])\n",
    "# print(X1)\n",
    "\n",
    "estimation = sm.OLS(y1, X1).fit()\n",
    "estimation.summary()"
   ]
  },
  {
   "cell_type": "markdown",
   "id": "363c95d3",
   "metadata": {},
   "source": [
    "# Predict"
   ]
  },
  {
   "cell_type": "code",
   "execution_count": null,
   "id": "4be08e8c",
   "metadata": {},
   "outputs": [],
   "source": [
    "# We can also predict death possibility of a patient with specified features.\n",
    "# Patient Features[['ICU', 'PATIENT_TYPE', 'AGE', 'SEX', 'TOBACCO','INTUBED', 'CLASIFFICATION_FINAL', 'MEDICAL_UNIT']]\n",
    "scaled = strScaler.transform([[80, 2, 34, 2, 1, 20, 7, 1]])\n",
    "print(scaled)\n",
    "predicted = estimation.predict(scaled)\n",
    "print(predicted)\n",
    "print(f\"Death probability: {round(predicted[0]* 100,2)} %\")"
   ]
  },
  {
   "cell_type": "markdown",
   "id": "08edb12e",
   "metadata": {},
   "source": [
    "# Recommendation"
   ]
  },
  {
   "cell_type": "code",
   "execution_count": null,
   "id": "21ee216b",
   "metadata": {},
   "outputs": [],
   "source": [
    "# Gather information about patient\n",
    "name = \"Omid\"\n",
    "ICU = 10\n",
    "PATIENT_TYPE = 1\n",
    "AGE = 22\n",
    "SEX = 2\n",
    "TOBACCO = 1\n",
    "INTUBED = 1\n",
    "CLASIFFICATION_FINAL = 2\n",
    "MEDICAL_UNIT = 1"
   ]
  },
  {
   "cell_type": "code",
   "execution_count": null,
   "id": "cde29c02",
   "metadata": {
    "scrolled": true
   },
   "outputs": [],
   "source": [
    "# Find the best amount for ICU\n",
    "prob = 0\n",
    "for i in range(0,101,10):\n",
    "    patient = [[i, PATIENT_TYPE, AGE, SEX, TOBACCO, INTUBED, CLASIFFICATION_FINAL, MEDICAL_UNIT]]\n",
    "    scaled = strScaler.transform(patient)\n",
    "    predicted = round(estimation.predict(scaled)[0] * 100, 2)\n",
    "    if predicted < prob:\n",
    "        prob = predicted\n",
    "        ICU_max = i\n",
    "print(ICU_max)"
   ]
  },
  {
   "cell_type": "code",
   "execution_count": null,
   "id": "029cb480",
   "metadata": {},
   "outputs": [],
   "source": [
    "# Find the best amount for PATIENT_TYPE\n",
    "prob = 0\n",
    "for i in range(1,3):\n",
    "    patient = [[ICU_max, i, AGE, SEX, TOBACCO, INTUBED, CLASIFFICATION_FINAL, MEDICAL_UNIT]]\n",
    "    scaled = strScaler.transform(patient)\n",
    "    predicted = round(estimation.predict(scaled)[0] * 100, 2)\n",
    "    if predicted < prob:\n",
    "        prob = predicted\n",
    "        PATIENT_TYPE_max = i\n",
    "print(PATIENT_TYPE_max)"
   ]
  },
  {
   "cell_type": "code",
   "execution_count": null,
   "id": "449266aa",
   "metadata": {
    "scrolled": true
   },
   "outputs": [],
   "source": [
    "# Find the best amount for TOBACCO\n",
    "prob = 0\n",
    "for i in range(0, 101, 10):\n",
    "    patient = [[ICU_max, PATIENT_TYPE_max, AGE, SEX, i, INTUBED, CLASIFFICATION_FINAL, MEDICAL_UNIT]]\n",
    "    scaled = strScaler.transform(patient)\n",
    "    predicted = round(estimation.predict(scaled)[0] * 100, 2)\n",
    "    if predicted < prob:\n",
    "        prob = predicted\n",
    "        TOBACCO_max = i\n",
    "print(TOBACCO_max)"
   ]
  },
  {
   "cell_type": "code",
   "execution_count": null,
   "id": "46e7aac4",
   "metadata": {
    "scrolled": true
   },
   "outputs": [],
   "source": [
    "# Find the best amount for INTUBED\n",
    "prob = 0\n",
    "for i in range(0, 101, 10):\n",
    "    patient = [[ICU_max, PATIENT_TYPE_max, AGE, SEX, TOBACCO_max, i, CLASIFFICATION_FINAL, MEDICAL_UNIT]]\n",
    "    scaled = strScaler.transform(patient)\n",
    "    predicted = round(estimation.predict(scaled)[0] * 100, 2)\n",
    "    # print(i, predicted, INTUBED_max)\n",
    "    if predicted < prob:\n",
    "        prob = predicted\n",
    "        INTUBED_max = i\n",
    "print(INTUBED_max)"
   ]
  },
  {
   "cell_type": "code",
   "execution_count": null,
   "id": "4c53fc9b",
   "metadata": {},
   "outputs": [],
   "source": [
    "# Find the best amount for CLASIFFICATION_FINAL\n",
    "prob = 0\n",
    "for i in range(1, 5):\n",
    "    patient = [[ICU_max, PATIENT_TYPE_max, AGE, SEX, TOBACCO_max, INTUBED_max, i, MEDICAL_UNIT]]\n",
    "    scaled = strScaler.transform(patient)\n",
    "    predicted = round(estimation.predict(scaled)[0] * 100, 2)\n",
    "#     print(i, predicted, CLASIFFICATION_FINAL_max)\n",
    "    if predicted < prob:\n",
    "        prob = predicted\n",
    "        CLASIFFICATION_FINAL_max = i\n",
    "print(CLASIFFICATION_FINAL_max)"
   ]
  },
  {
   "cell_type": "code",
   "execution_count": null,
   "id": "38d56bd6",
   "metadata": {},
   "outputs": [],
   "source": [
    "# Find the best amount for MEDICAL_UNIT\n",
    "prob = 0\n",
    "for i in range(1, 14, 2):\n",
    "    patient = [[ICU_max, PATIENT_TYPE_max, AGE, SEX, TOBACCO_max, INTUBED_max, CLASIFFICATION_FINAL_max, i]]\n",
    "    scaled = strScaler.transform(patient)\n",
    "    predicted = round(estimation.predict(scaled)[0] * 100, 2)\n",
    "#     print(i, predicted, MEDICAL_UNIT_max)\n",
    "    if predicted < prob:\n",
    "        prob = predicted\n",
    "        MEDICAL_UNIT_max = i\n",
    "print(MEDICAL_UNIT_max)"
   ]
  },
  {
   "cell_type": "markdown",
   "id": "af076f3d",
   "metadata": {},
   "source": [
    "## Analysis"
   ]
  },
  {
   "cell_type": "code",
   "execution_count": null,
   "id": "fea768e2",
   "metadata": {},
   "outputs": [],
   "source": [
    "print(ICU_max, PATIENT_TYPE_max, AGE, SEX, TOBACCO_max, INTUBED_max, CLASIFFICATION_FINAL_max, MEDICAL_UNIT_max)"
   ]
  },
  {
   "cell_type": "code",
   "execution_count": null,
   "id": "9999e37f",
   "metadata": {},
   "outputs": [],
   "source": [
    "print(f\"Analysis on patient {name}\")\n",
    "if SEX == 1: Sex = 'Female'\n",
    "else: Sex = 'Male'\n",
    "print(f\"\\tAge: {AGE}\\t Sex: {Sex} \\n\")\n",
    "\n",
    "print(\"ICU: \")\n",
    "if ICU_max < 35:\n",
    "    print(\"Recommend less than 35 or minimum units of ICU for this patient. \\n\")\n",
    "elif ICU_max > 70:\n",
    "    print(\"Recommend more than 70 or maximum units of ICU for this Patient. \\n\")\n",
    "else: print(\"Recommend a moderate units of ICU about 50 units. \\n\")\n",
    "\n",
    "print(\"Home or Hospital Treatment: \")\n",
    "if PATIENT_TYPE_max == 1:\n",
    "    print(\"Recommend Home treatment for this patient. \\n\")\n",
    "else: print(\"Recommend necessary Hospital treatment for this patient. \\n\")\n",
    "\n",
    "print(\"Tobacco usage: \")\n",
    "if TOBACCO < 10 and TOBACCO_max < 35 or TOBACCO > 10 and TOBACCO_max < 35:\n",
    "    print(\"Patient shouldn't go near Tobacco. \\n\")\n",
    "elif TOBACCO > 70 and TOBACCO_max > 70:\n",
    "    print(\"Patient can use Tobacco as before infection but it must be supervised. \\n\")\n",
    "elif TOBACCO_max > 70:\n",
    "    print(\"Recommend a moderate, prescribed and supervised amount of Tobacco. \\n\")\n",
    "\n",
    "print(\"Ventilator Machine usage: \")\n",
    "if INTUBED_max < 35:\n",
    "    print(\"Recommend less than 35 or minimum units of Ventilation for this patient. \\n\")\n",
    "elif INTUBED_max > 70:\n",
    "    print(\"Recommend more than 70 or maximum units of Ventilation for this Patient. \\n\")\n",
    "else: print(\"Recommend a moderate units of Ventilation about 50 units. \\n\")\n",
    "\n",
    "print(\"Type of health system required for this patient: \")\n",
    "if MEDICAL_UNIT_max <= 2:\n",
    "    print(\"Maximum Type of Medical unit is required for this patient. \\n\")\n",
    "elif MEDICAL_UNIT_max <= 4:\n",
    "    print(\"Type 3-4 is recommended for this patient. \\n\")\n",
    "elif MEDICAL_UNIT_max <= 6:\n",
    "    print(\"Type 5-6 is recommended for this patient. \\n\")\n",
    "elif MEDICAL_UNIT_max <= 8:\n",
    "    print(\"Type 7-8 is recommended for this patient. \\n\")\n",
    "elif MEDICAL_UNIT_max <= 10:\n",
    "    print(\"Type 9-10 is recommended for this patient. \\n\")\n",
    "else: print(\"Any available units is enough for this patient. \\n\")\n",
    "    \n",
    "print(\"Covid degree Recommendations: \")\n",
    "if CLASIFFICATION_FINAL_max == 1:\n",
    "    print(\"This patient have the highest chance for survival.\")\n",
    "elif CLASIFFICATION_FINAL_max == 2:\n",
    "    print(\"This patient have a high chance for survival but necessary treatments are needed. \\n\")\n",
    "elif CLASIFFICATION_FINAL_max == 3:\n",
    "    print(\"This patient needs treatments and to be supervised. \\n\")\n",
    "else: print(\"This patient test was either not a carrier or inconclusive. \\nRecommend a period of supervision to confirm Covid infection. \\n\")\n",
    "\n",
    "# ------------------------------------------- Final prediction --------------------------------------------\n",
    "patient = [[ICU, PATIENT_TYPE, AGE, SEX, TOBACCO, INTUBED, CLASIFFICATION_FINAL, MEDICAL_UNIT]]\n",
    "scaled = strScaler.transform(patient)\n",
    "first_predicted = round(estimation.predict(scaled)[0] * 100, 2)\n",
    "patient = [[ICU_max, PATIENT_TYPE_max, AGE, SEX, TOBACCO_max, INTUBED_max, CLASIFFICATION_FINAL_max, MEDICAL_UNIT_max]]\n",
    "scaled = strScaler.transform(patient)\n",
    "final_predicted = round(estimation.predict(scaled)[0] * 100, 2)\n",
    "print(f\"\\tDeath chance before recommendation: {first_predicted}\\t Death chance after recommendatios: {final_predicted}\")"
   ]
  },
  {
   "cell_type": "code",
   "execution_count": null,
   "id": "291419ea",
   "metadata": {},
   "outputs": [],
   "source": []
  }
 ],
 "metadata": {
  "kernelspec": {
   "display_name": "Python 3 (ipykernel)",
   "language": "python",
   "name": "python3"
  },
  "language_info": {
   "codemirror_mode": {
    "name": "ipython",
    "version": 3
   },
   "file_extension": ".py",
   "mimetype": "text/x-python",
   "name": "python",
   "nbconvert_exporter": "python",
   "pygments_lexer": "ipython3",
   "version": "3.10.4"
  }
 },
 "nbformat": 4,
 "nbformat_minor": 5
}
